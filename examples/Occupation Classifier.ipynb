{
 "cells": [
  {
   "cell_type": "code",
   "execution_count": 14,
   "metadata": {},
   "outputs": [],
   "source": [
    "%reload_ext autoreload\n",
    "%autoreload 2\n",
    "\n",
    "from airflow.hooks import S3Hook\n",
    "s3_conn = S3Hook().get_conn()\n",
    "\n",
    "from skills_ml.storage import FSStore, S3Store\n",
    "\n",
    "from skills_ml.job_postings.common_schema import JobPostingCollectionFromS3, JobPostingCollectionSample\n",
    "from skills_ml.job_postings.filtering import JobPostingFilterer\n",
    "\n",
    "from skills_ml.algorithms.embedding.models import Word2VecModel\n",
    "from skills_ml.algorithms.preprocessing import IterablePipeline\n",
    "from skills_ml.algorithms.string_cleaners import nlp\n",
    "from skills_ml.algorithms.occupation_classifiers.train import OccupationClassifierTrainer, create_training_set\n",
    "from skills_ml.algorithms.occupation_classifiers import FullSOC\n",
    "\n",
    "import random\n",
    "from functools import partial"
   ]
  },
  {
   "cell_type": "code",
   "execution_count": 10,
   "metadata": {},
   "outputs": [
    {
     "name": "stdout",
     "output_type": "stream",
     "text": [
      "[2018-08-06 16:21:25,327] {common_schema.py:139} INFO - Extracting job postings from key sampled_jobpostings/samples_24k_v1\n",
      "[2018-08-06 16:21:25,614] {s3.py:86} INFO - 0 bytes transferred out of 91185578 total\n",
      "[2018-08-06 16:22:24,745] {s3.py:86} INFO - 10133504 bytes transferred out of 91185578 total\n",
      "[2018-08-06 16:23:20,504] {s3.py:86} INFO - 20267008 bytes transferred out of 91185578 total\n",
      "[2018-08-06 16:24:26,725] {s3.py:86} INFO - 30400512 bytes transferred out of 91185578 total\n",
      "[2018-08-06 16:25:30,899] {s3.py:86} INFO - 40534016 bytes transferred out of 91185578 total\n",
      "[2018-08-06 16:28:21,668] {s3.py:86} INFO - 50667520 bytes transferred out of 91185578 total\n",
      "[2018-08-06 16:28:49,675] {s3.py:86} INFO - 60801024 bytes transferred out of 91185578 total\n",
      "[2018-08-06 16:29:41,369] {s3.py:86} INFO - 70934528 bytes transferred out of 91185578 total\n",
      "[2018-08-06 16:30:13,232] {s3.py:86} INFO - 81068032 bytes transferred out of 91185578 total\n",
      "[2018-08-06 16:30:30,690] {s3.py:86} INFO - 91185578 bytes transferred out of 91185578 total\n"
     ]
    }
   ],
   "source": [
    "job_24k = JobPostingCollectionFromS3(s3_conn=s3_conn, s3_paths=\"open-skills-private/sampled_jobpostings/samples_24k_v1\")\n",
    "job_24k = list(job_24k)"
   ]
  },
  {
   "cell_type": "code",
   "execution_count": 13,
   "metadata": {},
   "outputs": [],
   "source": [
    "random.shuffle(job_24k)\n",
    "\n",
    "train_data = job_24k[:19200]\n",
    "test_data = job_24k[19200:]"
   ]
  },
  {
   "cell_type": "code",
   "execution_count": null,
   "metadata": {},
   "outputs": [],
   "source": [
    "w2v = Word2VecModel.load(storage=S3Store('open-skills-private/model_cache/embedding'), model_name='word2vec_2018-07-23T16:33:35.522443.model')\n"
   ]
  },
  {
   "cell_type": "markdown",
   "metadata": {},
   "source": [
    "## Full-Soc"
   ]
  },
  {
   "cell_type": "code",
   "execution_count": 15,
   "metadata": {},
   "outputs": [
    {
     "name": "stdout",
     "output_type": "stream",
     "text": [
      "[2018-08-06 16:45:40,076] {onet.py:47} INFO - Processing Content Model Reference\n",
      "[2018-08-06 16:45:43,463] {onet.py:51} INFO - Processing occupation data\n",
      "[2018-08-06 16:45:45,972] {onet.py:69} INFO - Processing Knowledge, Skills, Abilities\n",
      "[2018-08-06 16:46:45,842] {onet.py:82} INFO - Processing tools and technology\n"
     ]
    }
   ],
   "source": [
    "full_soc = FullSOC()"
   ]
  },
  {
   "cell_type": "code",
   "execution_count": null,
   "metadata": {},
   "outputs": [],
   "source": [
    "def filter1(doc):\n",
    "    if full_soc.filter_func(doc):\n",
    "        return doc\n",
    "    else:\n",
    "        return None\n",
    "\n",
    "    \n",
    "document_schema_fields = ['description', 'experienceRequirements', 'qualifications', 'skills']\n",
    "pipe_x = IterablePipeline(\n",
    "    filter1,\n",
    "    partial(nlp.fields_join, document_schema_fields=document_schema_fields),\n",
    "    nlp.clean_str,\n",
    "    nlp.word_tokenize,\n",
    "    partial(nlp.vectorize, embedding_model=w2v)\n",
    ")\n",
    "pipe_y = IterablePipeline(\n",
    "    filter1, \n",
    "    full_soc.transformer\n",
    ")\n",
    "\n",
    "matrix = create_training_set(\n",
    "    job_postings_generator=train_data,\n",
    "    target_variable=full_soc,\n",
    "    pipe_x=pipe_x,\n",
    "    pipe_y=pipe_y\n",
    ")\n",
    "\n"
   ]
  },
  {
   "cell_type": "code",
   "execution_count": null,
   "metadata": {},
   "outputs": [],
   "source": [
    "grid_config = {\n",
    "                 'sklearn.ensemble.ExtraTreesClassifier': {\n",
    "                     'n_estimators': [100, 500, 1000],\n",
    "                     'criterion': ['gini', 'entropy'],\n",
    "                     'max_depth': [1, 5, 10, 20, 50],\n",
    "                     'max_features': ['sqrt', 'log2'],\n",
    "                     'min_samples_split': [2, 5, 10]\n",
    "                     },\n",
    "                 'sklearn.ensemble.RandomForestClassifier': {\n",
    "                     'n_estimators': [100, 500, 1000],\n",
    "                     'criterion': ['gini', 'entropy'],\n",
    "                     'max_depth': [1, 5, 10, 20, 50],\n",
    "                     'max_features': ['sqrt', 'log2'],\n",
    "                     'min_samples_split': [2, 5, 10]\n",
    "                     }\n",
    "                 }"
   ]
  },
  {
   "cell_type": "code",
   "execution_count": null,
   "metadata": {},
   "outputs": [],
   "source": [
    "trainer = OccupationClassifierTrainer(\n",
    "    matrix=matrix,\n",
    "    k_folds=3,\n",
    ")\n",
    "trainer.train()"
   ]
  }
 ],
 "metadata": {
  "kernelspec": {
   "display_name": "Python 3",
   "language": "python",
   "name": "python3"
  },
  "language_info": {
   "codemirror_mode": {
    "name": "ipython",
    "version": 3
   },
   "file_extension": ".py",
   "mimetype": "text/x-python",
   "name": "python",
   "nbconvert_exporter": "python",
   "pygments_lexer": "ipython3",
   "version": "3.6.4"
  }
 },
 "nbformat": 4,
 "nbformat_minor": 2
}
